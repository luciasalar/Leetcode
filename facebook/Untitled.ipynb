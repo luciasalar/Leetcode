{
 "cells": [
  {
   "cell_type": "markdown",
   "metadata": {
    "collapsed": true
   },
   "source": [
    "Say you have an array for which the ith element is the price of a given stock on day i.\n",
    "If you were only permitted to complete at most one transaction (i.e., buy one and sell one share of the stock), design an algorithm to find the maximum profit.\n",
    "that you cannot sell a stock before you buy one.\n",
    "\n",
    "Input: [7,1,5,3,6,4]\n",
    "Output: 5\n",
    "Explanation: Buy on day 2 (price = 1) and sell on day 5 (price = 6), profit = 6-1 = 5.\n",
    "Not 7-1 = 6, as selling price needs to be larger than buying price.\n",
    "\n"
   ]
  },
  {
   "cell_type": "code",
   "execution_count": null,
   "metadata": {
    "collapsed": true
   },
   "outputs": [],
   "source": [
    "import pd as pandas"
   ]
  },
  {
   "cell_type": "code",
   "execution_count": 67,
   "metadata": {},
   "outputs": [
    {
     "name": "stdout",
     "output_type": "stream",
     "text": [
      "type price list 715364\n",
      "['7', '1', '5', '3', '6', '4']\n"
     ]
    }
   ],
   "source": [
    "price_list = list(input('type price list '))\n",
    "print(price_list)"
   ]
  },
  {
   "cell_type": "code",
   "execution_count": 69,
   "metadata": {},
   "outputs": [
    {
     "data": {
      "text/plain": [
       "5"
      ]
     },
     "execution_count": 69,
     "metadata": {},
     "output_type": "execute_result"
    }
   ],
   "source": [
    "def buy_sell(plist):\n",
    "    mini = min(plist)\n",
    "    maxi = max(plist)\n",
    "    for i in range(0, len(plist)):\n",
    "        if maxi == plist[i]:\n",
    "            index1 = i\n",
    "        if mini == plist[i]:\n",
    "            index2 = i\n",
    "            #print(index1,index2)\n",
    "    if index1 > index2:\n",
    "        return int(maxi) - int(mini)\n",
    "    else:\n",
    "        new_plist = plist.remove(maxi)\n",
    "        print(new_plist)\n",
    "                #return buy_sell(new_plist)\n",
    "            \n",
    "        \n",
    "        \n",
    "buy_sell(price_list)        "
   ]
  },
  {
   "cell_type": "code",
   "execution_count": null,
   "metadata": {},
   "outputs": [],
   "source": []
  }
 ],
 "metadata": {
  "kernelspec": {
   "display_name": "Python 3",
   "language": "python",
   "name": "python3"
  },
  "language_info": {
   "codemirror_mode": {
    "name": "ipython",
    "version": 3
   },
   "file_extension": ".py",
   "mimetype": "text/x-python",
   "name": "python",
   "nbconvert_exporter": "python",
   "pygments_lexer": "ipython3",
   "version": "3.6.1"
  }
 },
 "nbformat": 4,
 "nbformat_minor": 2
}
